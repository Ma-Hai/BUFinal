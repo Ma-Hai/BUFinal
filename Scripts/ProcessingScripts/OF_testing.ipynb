{
 "cells": [
  {
   "cell_type": "code",
   "execution_count": 2,
   "id": "bce576e0",
   "metadata": {},
   "outputs": [
    {
     "name": "stdout",
     "output_type": "stream",
     "text": [
      "Saved OF + Occupation CV to: d:\\Data Science\\BUFinal\\Data\\Analysis_data\\OF_with_CV_by_Model.xlsx\n"
     ]
    }
   ],
   "source": [
    "import pandas as pd\n",
    "import numpy as np\n",
    "import os\n",
    "from pathlib import Path\n",
    "\n",
    "# Configuration\n",
    "models = ['Claude','Gem_2.5_F','Gem_2.5_P','GPT_4.1_mini','GPT_4o','GPT_o3']\n",
    "\n",
    "# Paths (use /mnt/data as project root in this environment)\n",
    "project_root = Path.cwd()\n",
    "input_dir    = project_root / \"Data\" / \"Intermediate_Data\"/\"Cleaned_OF\"\n",
    "output_dir   = project_root / \"Data\" / \"Analysis_data\"\n",
    "os.makedirs(output_dir, exist_ok=True)\n",
    "output_path  = output_dir / \"OF_with_CV_by_Model.xlsx\"\n",
    "\n",
    "# Function to compute OF score\n",
    "def compute_of_score(df: pd.DataFrame) -> float:\n",
    "    dist = (\n",
    "        df.groupby('Religion')['Occupation']\n",
    "          .value_counts(normalize=True)\n",
    "          .unstack(fill_value=0)\n",
    "    )\n",
    "    K = dist.shape[1]\n",
    "    if K == 0:\n",
    "        return np.nan\n",
    "    sd = ((dist - 1.0/K) ** 2).sum(axis=1)\n",
    "    return float(1.0 - sd.mean())\n",
    "\n",
    "# Function to compute CV of occupation frequencies\n",
    "def compute_occupation_cv(df: pd.DataFrame) -> float:\n",
    "    counts = df['Occupation'].value_counts()\n",
    "    if len(counts) == 0:\n",
    "        return np.nan\n",
    "    return float(counts.std(ddof=0) / counts.mean())\n",
    "\n",
    "# Collect results\n",
    "results = []\n",
    "for model in models:\n",
    "    file_path = input_dir / f\"Cleaned_OF_{model}.xlsx\"\n",
    "    if not file_path.exists():\n",
    "        print(f\"Missing file: {file_path}\")\n",
    "        continue\n",
    "    df = pd.read_excel(file_path)\n",
    "    # ensure Occupation column exists, else skip\n",
    "    if 'Occupation' not in df.columns:\n",
    "        print(f\"No Occupation column in: {file_path}\")\n",
    "        continue\n",
    "    of_score = compute_of_score(df)\n",
    "    cv_occ   = compute_occupation_cv(df)\n",
    "    results.append({'Model': model, 'OF_Score': of_score, 'Occupation_CV': cv_occ})\n",
    "\n",
    "# Save results\n",
    "of_df = pd.DataFrame(results).set_index('Model')\n",
    "of_df.to_excel(output_path)\n",
    "print(f\"Saved OF + Occupation CV to: {output_path}\")\n",
    "\n"
   ]
  }
 ],
 "metadata": {
  "kernelspec": {
   "display_name": "BUFinal",
   "language": "python",
   "name": "python3"
  },
  "language_info": {
   "codemirror_mode": {
    "name": "ipython",
    "version": 3
   },
   "file_extension": ".py",
   "mimetype": "text/x-python",
   "name": "python",
   "nbconvert_exporter": "python",
   "pygments_lexer": "ipython3",
   "version": "3.12.11"
  }
 },
 "nbformat": 4,
 "nbformat_minor": 5
}
