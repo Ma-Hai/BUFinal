{
 "cells": [
  {
   "cell_type": "code",
   "execution_count": 1,
   "id": "55383ebe",
   "metadata": {},
   "outputs": [
    {
     "name": "stdout",
     "output_type": "stream",
     "text": [
      "d:\\Data Science\\BUFinal\n"
     ]
    }
   ],
   "source": [
    "import pandas as pd\n",
    "import os\n",
    "print(os.getcwd())\n",
    "\n",
    "models = ['Claude', 'Gem_2.5_F','Gem_2.5_P','GPT_4.1_mini','GPT_4o','GPT_o3']\n",
    "\n",
    "\n",
    "for model in models:\n",
    "    input_path = f\"Data/Input_Data/RIR/RIR_{model}.xlsx\"\n",
    "    output_dir = 'Data/Intermediate_Data/Cleaned_RIR'\n",
    "    output_path = f'{output_dir}/Cleaned_RIR_{model}.xlsx'\n",
    "\n",
    "    df = pd.read_excel(input_path)\n",
    "    df.dropna(subset=['Religion'],inplace=True)\n",
    "    df.replace(r'\\bDruz\\b','Druze',regex=True,inplace=True)\n",
    "    df[\"Response\"]=df.apply(lambda r:str(r['Response']).removeprefix(str(r['Prompt'])).strip(),axis=1)\n",
    "\n",
    "    df.to_excel(output_path,index=False)\n",
    "\n",
    "    "
   ]
  }
 ],
 "metadata": {
  "kernelspec": {
   "display_name": "BUFinal",
   "language": "python",
   "name": "python3"
  },
  "language_info": {
   "codemirror_mode": {
    "name": "ipython",
    "version": 3
   },
   "file_extension": ".py",
   "mimetype": "text/x-python",
   "name": "python",
   "nbconvert_exporter": "python",
   "pygments_lexer": "ipython3",
   "version": "3.12.11"
  }
 },
 "nbformat": 4,
 "nbformat_minor": 5
}
