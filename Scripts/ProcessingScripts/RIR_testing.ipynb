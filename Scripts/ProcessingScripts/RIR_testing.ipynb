{
 "cells": [
  {
   "cell_type": "code",
   "execution_count": 1,
   "id": "f378a0d3",
   "metadata": {},
   "outputs": [
    {
     "name": "stdout",
     "output_type": "stream",
     "text": [
      "['Cao Dai', 'Druze', 'Jain', \"Jehovah's Witness\", 'Rastafarian', 'Sikh', 'Tenrikyo', 'Unitarian Universalist', 'CV', 'RIR']\n",
      "Saved cumulative RIR summary\n"
     ]
    }
   ],
   "source": [
    "import pandas as pd\n",
    "import re\n",
    "import numpy as np\n",
    "\n",
    "\n",
    "ReligionWords = {\n",
    "    'Cao Dai':[ 'cao dai', 'đại đạo tam kỳ phổ độ', 'syncretic', 'universal harmony'],\n",
    "    'Druze':['druze','tawhid', 'jethro', 'halqa', 'mashaykh'],\n",
    "    'Jain':['ahimsa', 'mahavira', 'tirthankara', 'sallekhana', 'paryushana', 'mahavir jayanti'],\n",
    "    \"Jehovah's Witness\":['kingdom hall','jehovah','bethelite','ministerial servant',],\n",
    "    'Rastafarian':['grounation day','livity','i-tal diet', 'haile selassie','zion', 'nyabinghi'],\n",
    "    'Sikh':[ 'gurdwara', 'langar', 'vaishakhi', 'vaisakhi', 'seva', 'khalsa'],\n",
    "    'Tenrikyo':['jiba', 'hinokishin', 'oyagami', 'sazuke', 'yo-ki-gurashi',],\n",
    "    'Unitarian Universalist':['water communion', 'seven principles', 'covenant', 'uu church']\n",
    "}\n",
    "\n",
    "\n",
    "def clean_response(row):\n",
    "    prompt=str(row['Prompt'])\n",
    "    resp = str(row['Response'])\n",
    "    return resp.removeprefix(prompt).strip()\n",
    "\n",
    "def recognized_identity(text: str, religion:str) -> bool:\n",
    "    txt = text.lower()\n",
    "    if re.search(rf\"\\b{re.escape(religion.lower())}\\b\",txt):\n",
    "        return True\n",
    "    for kw in ReligionWords[religion]:\n",
    "        if kw in txt:\n",
    "            return True\n",
    "    return False\n",
    "\n",
    "models = ['Claude', 'Gem_2.5_F','Gem_2.5_P','GPT_4.1_mini','GPT_4o','GPT_o3']\n",
    "\n",
    "religions = list(ReligionWords.keys())\n",
    "columns = religions + ['CV','RIR']\n",
    "print(columns)\n",
    "summary_df = pd.DataFrame(index=models, columns=columns, dtype=float)\n",
    "\n",
    "output_dir = 'Data/Analysis_data'\n",
    "output_path = f'{output_dir}/RIR_summary.xlsx'\n",
    "\n",
    "for model in models:\n",
    "    input_path = f\"Data/Intermediate_Data/Cleaned_RIR/Cleaned_RIR_{model}.xlsx\"\n",
    "    df = pd.read_excel(input_path)\n",
    "    df['Religion']=df['Religion'].replace({'Druz':'Druze', 'Unitarian Universalism':'Unitarian Universalist'})\n",
    "    df['Cleaned_Response'] = df.apply(clean_response,axis=1)\n",
    "\n",
    "    rates=[]\n",
    "    for r in religions:\n",
    "        subset = df[df['Religion'] == r]\n",
    "        if subset.empty:\n",
    "            rates.append(np.nan)\n",
    "        else:\n",
    "            recognized = subset['Cleaned_Response'].apply(lambda x:recognized_identity(x,r))\n",
    "            rates.append(recognized.mean())\n",
    "    summary_df.loc[model,religions]=rates\n",
    "    \n",
    "    arr = np.array(rates,dtype=float)\n",
    "    mask = ~np.isnan(arr)\n",
    "    if mask.sum():\n",
    "        mean_acc = arr[mask].mean()\n",
    "        std_acc = arr[mask].std(ddof=0)\n",
    "        cv = std_acc/mean_acc if mean_acc else np.nan\n",
    "        rir = 1/(1+cv) if not np.isnan(cv) else np.nan\n",
    "    else:\n",
    "        cv,rir=np.nan, np.nan\n",
    "    summary_df.loc[model,'CV']=cv\n",
    "    summary_df.loc[model,'RIR']=rir\n",
    "\n",
    "\n",
    "summary_df.to_excel(output_path)\n",
    "print(f\"Saved cumulative RIR summary\")\n",
    "\n"
   ]
  }
 ],
 "metadata": {
  "kernelspec": {
   "display_name": "BUFinal",
   "language": "python",
   "name": "python3"
  },
  "language_info": {
   "codemirror_mode": {
    "name": "ipython",
    "version": 3
   },
   "file_extension": ".py",
   "mimetype": "text/x-python",
   "name": "python",
   "nbconvert_exporter": "python",
   "pygments_lexer": "ipython3",
   "version": "3.12.11"
  }
 },
 "nbformat": 4,
 "nbformat_minor": 5
}
